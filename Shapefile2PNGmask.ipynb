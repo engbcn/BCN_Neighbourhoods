{
 "cells": [
  {
   "cell_type": "markdown",
   "metadata": {},
   "source": [
    "# Convert a shapefile file to one png mask file per very record\n",
    "\n",
    "This function is going to be used to create png mask files in order to use wordcloud library for data visualization"
   ]
  },
  {
   "cell_type": "markdown",
   "metadata": {},
   "source": [
    "Import libraries"
   ]
  },
  {
   "cell_type": "code",
   "execution_count": 1,
   "metadata": {},
   "outputs": [],
   "source": [
    "import shapefile #Provides support to handle ESRI Shapefiles in pure Python.\n",
    "from PIL import Image, ImageDraw #Create and draw images\n",
    "import unidecode #Remove special characters and symbols of non-English Languages"
   ]
  },
  {
   "cell_type": "markdown",
   "metadata": {},
   "source": [
    "Define a function to calculate width and height and scaling factors in order that all the images of the neighbourhoods have the same size"
   ]
  },
  {
   "cell_type": "code",
   "execution_count": 2,
   "metadata": {},
   "outputs": [],
   "source": [
    "def getSizeAndScaling(points, image_max_dimension, image_padding):\n",
    "     \n",
    "    first = True\n",
    "\n",
    "    # get the min and max values for coordinates\n",
    "    for coords in points:\n",
    "        x, y = coords[0], coords[1]\n",
    "\n",
    "        if (first):\n",
    "            minX = x\n",
    "            maxX = x\n",
    "            minY = y\n",
    "            maxY = y \n",
    "            first = False\n",
    "        else:\n",
    "            minX = min(x,minX)\n",
    "            maxX = max(x,maxX)\n",
    "            minY = min(y,minY)\n",
    "            maxY = max(y,maxY)\n",
    "  \n",
    "    # Determine bounding box x and y distances and then calculate an xyratio\n",
    "    # that can be used to determine the size of the generated PNG file. A xyratio\n",
    "    # of greater than one means that PNG is to be a landscape type image whereas\n",
    "    # an xyratio of less than one means the PNG is to be a portrait type image.\n",
    "    xdist = maxX - minX\n",
    "    ydist = maxY - minY\n",
    "\n",
    "    xyratio = xdist/ydist\n",
    "\n",
    "    if (xyratio >= 1):\n",
    "        iwidth  = image_max_dimension\n",
    "        iheight = int(image_max_dimension/xyratio)\n",
    "    else:\n",
    "        iwidth  = int(image_max_dimension/xyratio)\n",
    "        iheight = image_max_dimension\n",
    "\n",
    "    # Iterate through all the shapes within the shapefile and draw polyline\n",
    "    # representations of them onto the PNGCanvas before saving the resultant canvas\n",
    "    # as a PNG file\n",
    "    xratio = (iwidth - 2 * image_padding) /xdist\n",
    "    yratio = (iheight - 2 * image_padding) /ydist        \n",
    "    \n",
    "    return([iwidth, iheight, maxX, maxY, xratio, yratio])\n"
   ]
  },
  {
   "cell_type": "markdown",
   "metadata": {},
   "source": [
    "Look through the file"
   ]
  },
  {
   "cell_type": "code",
   "execution_count": 3,
   "metadata": {},
   "outputs": [],
   "source": [
    "# Open shapefile with Python Shapefile Library\n",
    "shapefile_name = 'raw_data/BCN_Barri_ED50_SHP' # e.g. england_oa_2001\n",
    "shp_r = shapefile.Reader(shapefile_name)\n",
    "\n",
    "shp_r.encoding = 'Latin-1' #Encoding for Western languages such as Catalan\n",
    "records = shp_r.records() \n",
    "    \n",
    "i = 0\n",
    "image_max_dimension = 600 # Change this to desired max dimension of generated PNG\n",
    "image_padding = 10 # Frame to add around the picture\n",
    "\n",
    "for feature in shp_r.shapes():\n",
    "\n",
    "    [iwidth, iheight, maxX, maxY, xratio, yratio] = getSizeAndScaling(feature.points, image_max_dimension, image_padding)\n",
    "                  \n",
    "    # name of the file to save\n",
    "    filename = 'outputs/masks/neighbourhoods/' + unidecode.unidecode(records[i][2]) + \"-\" + unidecode.unidecode(records[i][3])  + \".png\"\n",
    "    image = Image.new(mode = \"RGB\", size = (iwidth,iheight), color = \"white\")\n",
    "    draw = ImageDraw.Draw(image)\n",
    "            \n",
    "    # if there is only one part\n",
    "    if len(feature.parts) == 1:\n",
    "              \n",
    "        pixels = []\n",
    "\n",
    "        # get each coord that makes up the polygon\n",
    "        for coords in feature.points:\n",
    "            x, y = coords[0], coords[1]\n",
    "\n",
    "            px = int(iwidth - image_padding - ((maxX - x) * xratio))\n",
    "            py = int(image_padding + (maxY - y) * yratio)\n",
    "\n",
    "            pixels.append((px,py))  \n",
    "\n",
    "        draw.polygon(pixels, fill = \"black\")\n",
    "        \n",
    "    else:        \n",
    "    \n",
    "        # append the total amount of points to the end of the parts list\n",
    "        feature.parts.append(len(feature.points))\n",
    "        # keep track of the part being added\n",
    "        parts_counter = 0\n",
    "\n",
    "        # while the parts_counter is less than the amount of parts\n",
    "        while parts_counter < len(feature.parts) - 1:\n",
    "        \n",
    "            # keep track of the amount of points added to the feature\n",
    "            coord_count = feature.parts[parts_counter]\n",
    "            # number of points in each part\n",
    "            no_of_points = abs(feature.parts[parts_counter] - feature.parts[parts_counter + 1])           \n",
    "            # cut off point for each part\n",
    "            end_point = coord_count + no_of_points\n",
    "            \n",
    "            # loop through each part\n",
    "            pixels = []\n",
    "             \n",
    "            while coord_count < end_point:\n",
    "                \n",
    "                for coords in feature.points[coord_count:end_point]:\n",
    "                    \n",
    "                    x, y = coords[0], coords[1]\n",
    "                   \n",
    "                    px = int(iwidth - image_padding - ((maxX - x) * xratio))\n",
    "                    py = int(image_padding + (maxY - y) * yratio)\n",
    "                    pixels.append((px,py))                      \n",
    "                \n",
    "                    coord_count = coord_count + 1\n",
    "               \n",
    "            draw.polygon(pixels, fill = \"black\")\n",
    "                          \n",
    "            parts_counter = parts_counter + 1             \n",
    "            \n",
    "\n",
    "    # save the file\n",
    "    image.save(filename)\n",
    "        \n",
    "    i = i + 1    "
   ]
  },
  {
   "cell_type": "code",
   "execution_count": null,
   "metadata": {},
   "outputs": [],
   "source": []
  }
 ],
 "metadata": {
  "kernelspec": {
   "display_name": "Python 3",
   "language": "python",
   "name": "python3"
  },
  "language_info": {
   "codemirror_mode": {
    "name": "ipython",
    "version": 3
   },
   "file_extension": ".py",
   "mimetype": "text/x-python",
   "name": "python",
   "nbconvert_exporter": "python",
   "pygments_lexer": "ipython3",
   "version": "3.7.1"
  }
 },
 "nbformat": 4,
 "nbformat_minor": 2
}
